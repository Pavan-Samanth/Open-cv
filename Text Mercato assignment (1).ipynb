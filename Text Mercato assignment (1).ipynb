{
 "cells": [
  {
   "cell_type": "markdown",
   "metadata": {},
   "source": [
    "# Assignment\n",
    "\n",
    "1. Write a python program (using opencv) to find the color components in the image. Explain the methodology in brief.\n",
    "\n",
    "Ans)  I am solving this problem using open cv and I am gonna explain the method of how I did it.\n",
    "\n",
    "First of all, import the Libraries required for open cv."
   ]
  },
  {
   "cell_type": "code",
   "execution_count": 1,
   "metadata": {},
   "outputs": [],
   "source": [
    "import cv2\n",
    "import numpy as np\n",
    "import imutils"
   ]
  },
  {
   "cell_type": "markdown",
   "metadata": {},
   "source": [
    "In the above line of code I am using imutils library which helps in resizing images and finding the range of colors.\n",
    "\n",
    "Next step is Read the image from the desktop,  I am taking the image that's given as an example in the assignment."
   ]
  },
  {
   "cell_type": "code",
   "execution_count": 2,
   "metadata": {},
   "outputs": [],
   "source": [
    "img = cv2.imread('RGBIdentify.png')"
   ]
  },
  {
   "cell_type": "markdown",
   "metadata": {},
   "source": [
    "After loading the image we are converting to hsv image because hsv helps to differentiate intensity from color."
   ]
  },
  {
   "cell_type": "code",
   "execution_count": 3,
   "metadata": {},
   "outputs": [],
   "source": [
    "hsv = cv2.cvtColor(img, cv2.COLOR_BGR2HSV)"
   ]
  },
  {
   "cell_type": "markdown",
   "metadata": {},
   "source": [
    "Next we take the upper limit and lower limit of all the ranges that are present in the image for a color or multiple of colors for detection."
   ]
  },
  {
   "cell_type": "code",
   "execution_count": 4,
   "metadata": {},
   "outputs": [],
   "source": [
    "Blue_lower_range = np.array([110,50,50])\n",
    "Blue_upper_range = np.array([130,255,255])\n",
    "\n",
    "Green_lower_range1 = np.array([50,0,0])\n",
    "Green_upper_range1 = np.array([70,255,255])\n",
    "\n",
    "Red_lower_range2 = np.array([0,100,100])\n",
    "Red_upper_range2 = np.array([10,255,255])\n",
    "\n",
    "\n",
    "Black_lower_range3 = np.array([0,0,0])\n",
    "Black_upper_range3 = np.array([0,0,0])"
   ]
  },
  {
   "cell_type": "markdown",
   "metadata": {},
   "source": [
    "I took those ranges as by calculating hsv from open cv docs page. I also used tool for calculating it https://toolstud.io/color/rgb.php?rgbhex=FFC0CB&convert=rgbhex . we put those values as arrays"
   ]
  },
  {
   "cell_type": "code",
   "execution_count": 5,
   "metadata": {},
   "outputs": [],
   "source": [
    "mask = cv2.inRange(hsv,Blue_lower_range,Blue_upper_range)\n",
    "mask1 = cv2.inRange(hsv,Green_lower_range1,Green_upper_range1)\n",
    "mask2 = cv2.inRange(hsv,Red_lower_range2,Red_upper_range2)\n",
    "mask3 = cv2.inRange(hsv,Black_lower_range3,Black_upper_range3)"
   ]
  },
  {
   "cell_type": "markdown",
   "metadata": {},
   "source": [
    "Here we are actually creating a mask with the specified blue,red,green and black. The masks simply represent a specific part of the image. In this case, we are checking through the hsv image, and checking for colors that are between the lower-range and upper-range. The areas that match will an image set to the mask variables."
   ]
  },
  {
   "cell_type": "code",
   "execution_count": 6,
   "metadata": {},
   "outputs": [],
   "source": [
    "kernal = np.ones((5 ,5), \"uint8\")\n",
    "red=cv2.erode(mask2, kernal)\n",
    "res=cv2.bitwise_and(mask2, mask2, mask = red)\n",
    "blue=cv2.erode(mask,kernal)\n",
    "res1=cv2.bitwise_and(mask, mask, mask = blue)\n",
    "green=cv2.erode(mask1,kernal)\n",
    "res2=cv2.bitwise_and(mask1,mask1, mask = green) "
   ]
  },
  {
   "cell_type": "markdown",
   "metadata": {},
   "source": [
    "Erode is useful for removing some white noises or detaching two connected objects and so on.\n",
    "Erode decreases the foreground object size.\n",
    "1) A kernel(a matrix of odd size(3,5,7) is convolved with the image.\n",
    "2) A pixel in the original image (either 1 or 0) will be considered 1 only if all the pixels under the kernel is 1, otherwise it is eroded (made to zero).\n",
    "3) Thus all the pixels near boundary will be discarded depending upon the size of kernel.\n",
    "4) So the thickness or size of the foreground object decreases or simply white region decreases in the image."
   ]
  },
  {
   "cell_type": "code",
   "execution_count": 7,
   "metadata": {},
   "outputs": [],
   "source": [
    "#kernal = np.ones((5 ,5), \"uint8\")\n",
    "red=cv2.dilate(mask2, kernal)\n",
    "res=cv2.bitwise_and(mask2, mask2, mask = red)\n",
    "blue=cv2.dilate(mask,kernal)\n",
    "res1=cv2.bitwise_and(mask, mask, mask = blue)\n",
    "green=cv2.dilate(mask1,kernal)\n",
    "res2=cv2.bitwise_and(mask1,mask1, mask = green) "
   ]
  },
  {
   "cell_type": "markdown",
   "metadata": {},
   "source": [
    "In noise Removal, Erosion is followed by Dilation.\n",
    "Dilation increases the size of the object"
   ]
  },
  {
   "cell_type": "code",
   "execution_count": 8,
   "metadata": {},
   "outputs": [],
   "source": [
    "cv2.imshow('image', img)\n",
    "cv2.imshow('Blue mask', mask)\n",
    "cv2.imshow('Green mask',mask1)\n",
    "cv2.imshow('Red mask',mask2)\n",
    "cv2.imshow('Black mask',mask3)"
   ]
  },
  {
   "cell_type": "markdown",
   "metadata": {},
   "source": [
    "Next we show the detection of objects for the particular colors we want.\n",
    "Finally, we can show the original and mask images side by side to see the difference"
   ]
  },
  {
   "cell_type": "code",
   "execution_count": null,
   "metadata": {},
   "outputs": [],
   "source": [
    "while(True):\n",
    "    k = cv2.waitKey(5) & 0xFF\n",
    "    if k == 27:\n",
    "        break\n",
    "\n",
    "cv2.destroyAllWindows()"
   ]
  },
  {
   "cell_type": "markdown",
   "metadata": {},
   "source": [
    "The 0xFF is telling about The code then waits for the user to hit the ‘Esc’ button which will quit it and destroy all the windows to cleanup.\n",
    "Finally the overall Code is below"
   ]
  },
  {
   "cell_type": "code",
   "execution_count": 1,
   "metadata": {},
   "outputs": [],
   "source": [
    "import cv2\n",
    "import numpy as np\n",
    "import imutils\n",
    "\n",
    "img = cv2.imread('RGBIdentify.png')\n",
    "\n",
    "hsv = cv2.cvtColor(img, cv2.COLOR_BGR2HSV)\n",
    "\n",
    "Blue_lower_range = np.array([110,50,50])\n",
    "Blue_upper_range = np.array([130,255,255])\n",
    "\n",
    "Green_lower_range1 = np.array([50,0,0])\n",
    "Green_upper_range1 = np.array([70,255,255])\n",
    "\n",
    "Red_lower_range2 = np.array([0,100,100])\n",
    "Red_upper_range2 = np.array([10,255,255])\n",
    "\n",
    "Black_lower_range3 = np.array([0,0,0])\n",
    "Black_upper_range3 = np.array([0,0,0])\n",
    "\n",
    "mask = cv2.inRange(hsv,Blue_lower_range,Blue_upper_range)\n",
    "mask1 = cv2.inRange(hsv,Green_lower_range1,Green_upper_range1)\n",
    "mask2 = cv2.inRange(hsv,Red_lower_range2,Red_upper_range2)\n",
    "mask3 = cv2.inRange(hsv,Black_lower_range3,Black_upper_range3)\n",
    "\n",
    "kernal = np.ones((5 ,5), \"uint8\")\n",
    "red=cv2.erode(mask2, kernal)\n",
    "res=cv2.bitwise_and(mask2, mask2, mask = red)\n",
    "blue=cv2.erode(mask,kernal)\n",
    "res1=cv2.bitwise_and(mask, mask, mask = blue)\n",
    "green=cv2.erode(mask1,kernal)\n",
    "res2=cv2.bitwise_and(mask1,mask1, mask = green)  \n",
    "\n",
    "#kernal = np.ones((5 ,5), \"uint8\")\n",
    "red=cv2.dilate(mask2, kernal)\n",
    "res=cv2.bitwise_and(mask2, mask2, mask = red)\n",
    "blue=cv2.dilate(mask,kernal)\n",
    "res1=cv2.bitwise_and(mask, mask, mask = blue)\n",
    "green=cv2.dilate(mask1,kernal)\n",
    "res2=cv2.bitwise_and(mask1,mask1, mask = green)  \n",
    "\n",
    "cv2.imshow('image', img)\n",
    "cv2.imshow('Blue mask', mask)\n",
    "cv2.imshow('Green mask',mask1)\n",
    "cv2.imshow('Red mask',mask2)\n",
    "cv2.imshow('Black mask',mask3)\n",
    "\n",
    "while(True):\n",
    "    k = cv2.waitKey(5) & 0xFF\n",
    "    if k == 27:\n",
    "        break\n",
    "\n",
    "cv2.destroyAllWindows()"
   ]
  },
  {
   "cell_type": "code",
   "execution_count": null,
   "metadata": {},
   "outputs": [],
   "source": []
  }
 ],
 "metadata": {
  "kernelspec": {
   "display_name": "Python 3",
   "language": "python",
   "name": "python3"
  },
  "language_info": {
   "codemirror_mode": {
    "name": "ipython",
    "version": 3
   },
   "file_extension": ".py",
   "mimetype": "text/x-python",
   "name": "python",
   "nbconvert_exporter": "python",
   "pygments_lexer": "ipython3",
   "version": "3.6.5"
  }
 },
 "nbformat": 4,
 "nbformat_minor": 2
}
